{
 "cells": [
  {
   "cell_type": "code",
   "execution_count": 38,
   "metadata": {},
   "outputs": [],
   "source": [
    "import numpy as np\n",
    "import pandas as pd\n",
    "from datetime import datetime, date"
   ]
  },
  {
   "cell_type": "code",
   "execution_count": 39,
   "metadata": {},
   "outputs": [],
   "source": [
    "def fourier_sequence(length, t=1):\n",
    "    return np.array([np.power(np.e, 2 * np.pi * 1j * (i / length) * t) for i in range(length)])\n",
    "\n",
    "def fourier_matrix(n, d, dates=None):\n",
    "    \"\"\"Generates a matrix with n copies of a length d fourier sequence\"\"\"\n",
    "    if dates is not None:\n",
    "        return np.stack([fourier_sequence(d, dates[i]) for i in range(n)])\n",
    "    return np.stack([fourier_sequence(d) for _ in range(n)])"
   ]
  },
  {
   "cell_type": "code",
   "execution_count": 40,
   "metadata": {},
   "outputs": [],
   "source": [
    "BODY_NAMES = ['mercury', 'venus', 'mars', 'jupiter', 'saturn', 'moon', 'sun']"
   ]
  },
  {
   "cell_type": "code",
   "execution_count": 41,
   "metadata": {},
   "outputs": [],
   "source": [
    "raw_data = pd.read_csv('./final_five_year_data_rand_4k.csv')\n",
    "raw_data.set_index('time', inplace=True)"
   ]
  },
  {
   "cell_type": "code",
   "execution_count": 42,
   "metadata": {},
   "outputs": [],
   "source": [
    "# create features using days as the timescale!\n",
    "dates = [datetime.strptime(time.split(' ')[0], '%Y-%m-%d') for time in raw_data.index.values]\n",
    "dates = [(d0.date() - date(d0.year, 1, 1)).days for d0 in dates]\n",
    "n = len(raw_data)\n",
    "d = len(raw_data)\n",
    "mat = fourier_matrix(n, d, dates)\n",
    "np.save('./fourier_features/fourier_features_five_year_rand_4k', mat)"
   ]
  },
  {
   "cell_type": "code",
   "execution_count": null,
   "metadata": {},
   "outputs": [],
   "source": []
  }
 ],
 "metadata": {
  "kernelspec": {
   "display_name": "Python 3",
   "language": "python",
   "name": "python3"
  },
  "language_info": {
   "codemirror_mode": {
    "name": "ipython",
    "version": 3
   },
   "file_extension": ".py",
   "mimetype": "text/x-python",
   "name": "python",
   "nbconvert_exporter": "python",
   "pygments_lexer": "ipython3",
   "version": "3.6.12"
  }
 },
 "nbformat": 4,
 "nbformat_minor": 4
}
